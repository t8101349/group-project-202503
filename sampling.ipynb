{
  "nbformat": 4,
  "nbformat_minor": 0,
  "metadata": {
    "colab": {
      "provenance": [],
      "include_colab_link": true
    },
    "kernelspec": {
      "name": "python3",
      "display_name": "Python 3"
    },
    "language_info": {
      "name": "python"
    }
  },
  "cells": [
    {
      "cell_type": "markdown",
      "metadata": {
        "id": "view-in-github",
        "colab_type": "text"
      },
      "source": [
        "<a href=\"https://colab.research.google.com/github/t8101349/group-project-202503/blob/main/sampling.ipynb\" target=\"_parent\"><img src=\"https://colab.research.google.com/assets/colab-badge.svg\" alt=\"Open In Colab\"/></a>"
      ]
    },
    {
      "cell_type": "code",
      "source": [
        "# !pip insall pandas\n",
        "# !pip install tqdm\n",
        "# !pip install pickle"
      ],
      "metadata": {
        "id": "fknS7Q8ESR62"
      },
      "execution_count": null,
      "outputs": []
    },
    {
      "cell_type": "code",
      "execution_count": null,
      "metadata": {
        "id": "mO75HaxXRUlE"
      },
      "outputs": [],
      "source": [
        "# 分布統計\n",
        "import pandas as pd\n",
        "from tqdm import tqdm\n",
        "import pickle\n",
        "\n",
        "# 參數設定\n",
        "filename = \"train.csv\"\n",
        "chunksize = 1_000_000\n",
        "bb_columns = [\"buildingblock1_smiles\", \"buildingblock2_smiles\", \"buildingblock3_smiles\"]\n",
        "\n",
        "# 計算分層分布\n",
        "def compute_strata_counts(bb_col):\n",
        "    print(f\"🔍 統計 {bb_col} 分層分布...\")\n",
        "    strata_counts = {\"pos\": {}, \"neg\": {}}\n",
        "    for chunk in tqdm(pd.read_csv(filename, chunksize=chunksize, usecols=[bb_col, \"binds\"]), desc=f\"Counting {bb_col}\"):\n",
        "        for bb, group in chunk.groupby(bb_col):\n",
        "            pos_count = len(group[group[\"binds\"] == 1])\n",
        "            neg_count = len(group[group[\"binds\"] == 0])\n",
        "            strata_counts[\"pos\"][bb] = strata_counts[\"pos\"].get(bb, 0) + pos_count\n",
        "            strata_counts[\"neg\"][bb] = strata_counts[\"neg\"].get(bb, 0) + neg_count\n",
        "    total_pos = sum(strata_counts[\"pos\"].values())\n",
        "    total_neg = sum(strata_counts[\"neg\"].values())\n",
        "    return {\"strata_counts\": strata_counts, \"total_pos\": total_pos, \"total_neg\": total_neg}\n",
        "\n",
        "# 執行並儲存\n",
        "strata_data = {}\n",
        "for bb_col in bb_columns:\n",
        "    strata_data[bb_col] = compute_strata_counts(bb_col)\n",
        "    print(f\"{bb_col} - 總正類: {strata_data[bb_col]['total_pos']}, 總負類: {strata_data[bb_col]['total_neg']}\")\n",
        "\n",
        "# 儲存預處理資料\n",
        "with open(\"strata_data.pkl\", \"wb\") as f:\n",
        "    pickle.dump(strata_data, f)\n",
        "print(\"✅ 分布統計已儲存至 'strata_data.pkl'\")"
      ]
    },
    {
      "cell_type": "code",
      "source": [
        "# 抽樣\n",
        "import pandas as pd\n",
        "from tqdm import tqdm\n",
        "import pickle\n",
        "\n",
        "# 載入預處理資料\n",
        "with open(\"strata_data.pkl\", \"rb\") as f:\n",
        "    strata_data = pickle.load(f)\n",
        "\n",
        "# 參數設定 可調整特徵抽樣比例與正負類比例\n",
        "filename = \"train.csv\"\n",
        "chunksize = 1_000_000\n",
        "targets = [\n",
        "    {\"bb\": \"buildingblock1_smiles\", \"pos\": 80000, \"neg\": 240000}, # 特徵一\n",
        "    {\"bb\": \"buildingblock2_smiles\", \"pos\": 10000, \"neg\": 30000}, # 特徵二\n",
        "    {\"bb\": \"buildingblock3_smiles\", \"pos\": 10000, \"neg\": 30000}, # 特徵三\n",
        "]\n",
        "\n",
        "# 抽樣函數\n",
        "def stratified_sample(bb_col, pos_target, neg_target, strata_data):\n",
        "    strata_counts = strata_data[bb_col][\"strata_counts\"]\n",
        "    total_pos = strata_data[bb_col][\"total_pos\"]\n",
        "    total_neg = strata_data[bb_col][\"total_neg\"]\n",
        "\n",
        "    print(f\"🎲 進行 {bb_col} 分層抽樣...\")\n",
        "    pos_samples = []\n",
        "    neg_samples = []\n",
        "    required_cols = [\"molecule_smiles\", \"buildingblock1_smiles\", \"buildingblock2_smiles\", \"buildingblock3_smiles\", \"protein_name\", \"binds\"]\n",
        "\n",
        "    for chunk in tqdm(pd.read_csv(filename, chunksize=chunksize, usecols=required_cols), desc=f\"Sampling {bb_col}\"):\n",
        "        for bb, group in chunk.groupby(bb_col):\n",
        "            pos_chunk = group[group[\"binds\"] == 1]\n",
        "            neg_chunk = group[group[\"binds\"] == 0]\n",
        "\n",
        "            pos_size = min(len(pos_chunk), int(pos_target * (strata_counts[\"pos\"].get(bb, 0) / total_pos)))\n",
        "            neg_size = min(len(neg_chunk), int(neg_target * (strata_counts[\"neg\"].get(bb, 0) / total_neg)))\n",
        "\n",
        "            if pos_size > 0 and len(pos_samples) < pos_target:\n",
        "                pos_sample = pos_chunk.sample(n=min(pos_size, pos_target - len(pos_samples)), random_state=42)\n",
        "                pos_samples.append(pos_sample)\n",
        "\n",
        "            if neg_size > 0 and len(neg_samples) < neg_target:\n",
        "                neg_sample = neg_chunk.sample(n=min(neg_size, neg_target - len(neg_samples)), random_state=42)\n",
        "                neg_samples.append(neg_sample)\n",
        "\n",
        "        if len(pos_samples) >= pos_target and len(neg_samples) >= neg_target:\n",
        "            break\n",
        "\n",
        "    df = pd.concat(pos_samples + neg_samples, ignore_index=True)\n",
        "    df_pos = df[df[\"binds\"] == 1].sample(n=min(pos_target, len(df[df[\"binds\"] == 1])), random_state=42)\n",
        "    df_neg = df[df[\"binds\"] == 0].sample(n=min(neg_target, len(df[df[\"binds\"] == 0])), random_state=42)\n",
        "    return pd.concat([df_pos, df_neg], ignore_index=True)\n",
        "\n",
        "# 執行分層抽樣\n",
        "train_dfs = []\n",
        "for target in targets:\n",
        "    df = stratified_sample(target[\"bb\"], target[\"pos\"], target[\"neg\"], strata_data)\n",
        "    train_dfs.append(df)\n",
        "\n",
        "# 合併樣本\n",
        "train_df = pd.concat(train_dfs, ignore_index=True).sample(frac=1, random_state=42)\n",
        "\n",
        "# 檢查結果\n",
        "print(\"🔎 檢查建構塊分布...\")\n",
        "bb1_unique = train_df[\"buildingblock1_smiles\"].nunique()\n",
        "bb2_unique = train_df[\"buildingblock2_smiles\"].nunique()\n",
        "bb3_unique = train_df[\"buildingblock3_smiles\"].nunique()\n",
        "\n",
        "print(f\"總樣本數: {len(train_df)}\")\n",
        "print(f\"正類記錄數: {len(train_df[train_df['binds'] == 1])}\")\n",
        "print(f\"負類記錄數: {len(train_df[train_df['binds'] == 0])}\")\n",
        "print(f\"獨特分子數: {train_df['molecule_smiles'].nunique()}\")\n",
        "print(f\"buildingblock1_smiles相異計數: {bb1_unique}（原始271）\")\n",
        "print(f\"buildingblock2_smiles相異計數: {bb2_unique}（原始693）\")\n",
        "print(f\"buildingblock3_smiles相異計數: {bb3_unique}（原始872）\")\n",
        "\n",
        "# 儲存結果\n",
        "train_df.to_csv(\"1030_40_data.csv\", index=False)"
      ],
      "metadata": {
        "id": "qvJ49cg3Rf2J"
      },
      "execution_count": null,
      "outputs": []
    }
  ]
}