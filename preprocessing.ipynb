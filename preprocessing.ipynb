{
  "nbformat": 4,
  "nbformat_minor": 0,
  "metadata": {
    "colab": {
      "provenance": [],
      "include_colab_link": true
    },
    "kernelspec": {
      "name": "python3",
      "display_name": "Python 3"
    },
    "language_info": {
      "name": "python"
    }
  },
  "cells": [
    {
      "cell_type": "markdown",
      "metadata": {
        "id": "view-in-github",
        "colab_type": "text"
      },
      "source": [
        "<a href=\"https://colab.research.google.com/github/t8101349/group-project-202503/blob/main/preprocessing.ipynb\" target=\"_parent\"><img src=\"https://colab.research.google.com/assets/colab-badge.svg\" alt=\"Open In Colab\"/></a>"
      ]
    },
    {
      "cell_type": "code",
      "source": [
        "!pip install rdkit\n",
        "!pip install numpy\n",
        "!pip install pandas"
      ],
      "metadata": {
        "id": "vF_hORczTAFk"
      },
      "execution_count": null,
      "outputs": []
    },
    {
      "cell_type": "code",
      "execution_count": null,
      "metadata": {
        "id": "odxzkOxCS2Nn"
      },
      "outputs": [],
      "source": [
        "import os\n",
        "import numpy as np\n",
        "import pandas as pd\n",
        "from rdkit import Chem\n",
        "from rdkit.Chem import rdFingerprintGenerator\n",
        "from joblib import Parallel, delayed\n",
        "\n",
        "# 定義 SMILES 轉換函數\n",
        "def smiles_to_morgan_fingerprint(smiles, n_bits=2048):\n",
        "    mol = Chem.MolFromSmiles(smiles)\n",
        "    if mol is None:\n",
        "        return np.zeros(n_bits, dtype=int)\n",
        "    else:\n",
        "        generator = rdFingerprintGenerator.GetMorganGenerator(radius=2, fpSize=n_bits)\n",
        "        return np.array(generator.GetFingerprint(mol), dtype=int)\n",
        "\n",
        "# 並行處理 SMILES 轉換\n",
        "def parallel_smiles_conversion(smiles_series, n_jobs=4):\n",
        "    results = Parallel(n_jobs=n_jobs, backend='loky')(\n",
        "        delayed(smiles_to_morgan_fingerprint)(smiles) for smiles in smiles_series\n",
        "    )\n",
        "    return results\n",
        "\n",
        "# 載入檔案\n",
        "input_file = '1030_40_data.csv'\n",
        "df_test = pd.read_csv(input_file)\n",
        "\n",
        "# 分批處理參數\n",
        "batch_size = 100_000  # 每批處理 10 萬筆，可根據記憶體情況調整\n",
        "n_batches = (len(df_test) + batch_size - 1) // batch_size\n",
        "\n",
        "# 儲存中間結果\n",
        "output_X_dir = 'temp_X_batches'\n",
        "os.makedirs(output_X_dir, exist_ok=True)\n",
        "\n",
        "for i in range(n_batches):\n",
        "    start_idx = i * batch_size\n",
        "    end_idx = min((i + 1) * batch_size, len(df_test))\n",
        "    batch_df = df_test.iloc[start_idx:end_idx].copy()\n",
        "\n",
        "    print(f\"Processing batch {i+1}/{n_batches} ({start_idx} to {end_idx})\")\n",
        "\n",
        "    # 對當前批次的 \"molecule_smiles\" 進行轉換\n",
        "    batch_df[\"molecule_smiles\"] = parallel_smiles_conversion(batch_df[\"molecule_smiles\"], n_jobs=4)\n",
        "\n",
        "    # 轉換為指紋數據框\n",
        "    fingerprints_df = pd.DataFrame(batch_df['molecule_smiles'].to_list())\n",
        "    protein_onehot = pd.get_dummies(batch_df[\"protein_name\"], prefix=\"protein\").astype(int).reset_index(drop=True)\n",
        "    X_batch = pd.concat([fingerprints_df, protein_onehot], axis=1)\n",
        "    X_batch.columns = X_batch.columns.astype(str)\n",
        "\n",
        "    # X 轉成 int8\n",
        "    int_cols = X_batch.select_dtypes(include=['int64']).columns\n",
        "    for col in int_cols:\n",
        "        X_batch[col] = X_batch[col].astype(np.int8)\n",
        "\n",
        "    # 儲存當前批次到臨時檔案\n",
        "    batch_file = os.path.join(output_X_dir, f'X_batch_{i}.parquet')\n",
        "    X_batch.to_parquet(batch_file)\n",
        "\n",
        "    # 清理記憶體\n",
        "    del batch_df, fingerprints_df, protein_onehot, X_batch\n",
        "\n",
        "# 合併所有 X 批次\n",
        "X_test = pd.concat([pd.read_parquet(os.path.join(output_X_dir, f))\n",
        "                   for f in os.listdir(output_X_dir) if f.endswith('.parquet')],\n",
        "                   axis=0)\n",
        "\n",
        "# 處理 y\n",
        "df_test['binds'] = df_test['binds'].astype(np.int8)\n",
        "y_test = df_test['binds'].reset_index(drop=True)  # 重置索引為連續的 RangeIndex\n",
        "\n",
        "# 儲存 X_test 為 Parquet 檔案\n",
        "X_test.to_parquet('mg1030_X.parquet', index=False)\n",
        "\n",
        "# 將 y_test 轉換為 DataFrame 並儲存為 Parquet 檔案\n",
        "y_test.to_frame().to_parquet('mg1030_y.parquet', index=False)\n",
        "\n",
        "# 可選：清理臨時目錄\n",
        "import shutil\n",
        "shutil.rmtree('temp_X_batches')\n",
        "\n",
        "# restart kernal 釋放記憶體"
      ]
    }
  ]
}